{
 "cells": [
  {
   "cell_type": "code",
   "execution_count": 2,
   "id": "f3db5505",
   "metadata": {},
   "outputs": [],
   "source": [
    "import numpy as np\n",
    "import pandas as pd\n",
    "from scipy import stats"
   ]
  },
  {
   "cell_type": "code",
   "execution_count": 9,
   "id": "8b37bb83",
   "metadata": {},
   "outputs": [
    {
     "data": {
      "text/plain": [
       "(1575.8820248378292, 2404.1179751621708)"
      ]
     },
     "execution_count": 9,
     "metadata": {},
     "output_type": "execute_result"
    }
   ],
   "source": [
    "stats.norm.interval(0.95,loc=1990,scale=2500/np.sqrt(140))"
   ]
  },
  {
   "cell_type": "code",
   "execution_count": 30,
   "id": "bb68d1a3",
   "metadata": {},
   "outputs": [],
   "source": [
    "mean, n, std, pstd = 1990, 140, 2833, 2500"
   ]
  },
  {
   "cell_type": "code",
   "execution_count": 28,
   "id": "7db3c3f3",
   "metadata": {},
   "outputs": [],
   "source": [
    "t1 = stats.t.ppf(0.975,n-1)"
   ]
  },
  {
   "cell_type": "code",
   "execution_count": 29,
   "id": "c5150969",
   "metadata": {},
   "outputs": [
    {
     "name": "stdout",
     "output_type": "stream",
     "text": [
      "[1516.5999869168315, 2463.4000130831682]\n"
     ]
    }
   ],
   "source": [
    "print(f\"[{mean - t1 * (std / np.sqrt(n))}, {mean + t1 * (std / np.sqrt(n))}]\")"
   ]
  },
  {
   "cell_type": "code",
   "execution_count": 25,
   "id": "d56433b8",
   "metadata": {},
   "outputs": [
    {
     "data": {
      "text/plain": [
       "(1516.5999869168315, 2463.4000130831682)"
      ]
     },
     "execution_count": 25,
     "metadata": {},
     "output_type": "execute_result"
    }
   ],
   "source": [
    "stats.t.interval(0.95,n-1, mean, std / (np.sqrt(n)))"
   ]
  },
  {
   "cell_type": "code",
   "execution_count": 32,
   "id": "e89562fd",
   "metadata": {},
   "outputs": [
    {
     "data": {
      "text/plain": [
       "1.959963984540054"
      ]
     },
     "execution_count": 32,
     "metadata": {},
     "output_type": "execute_result"
    }
   ],
   "source": [
    "z1 = stats.norm.ppf(0.975)"
   ]
  },
  {
   "cell_type": "code",
   "execution_count": 37,
   "id": "13583ce9",
   "metadata": {},
   "outputs": [
    {
     "name": "stdout",
     "output_type": "stream",
     "text": [
      "[1575.8820248378292, 2404.1179751621708]\n"
     ]
    }
   ],
   "source": [
    "print(f\"[{mean - z1 * (pstd / np.sqrt(n))}, {mean + z1 * (pstd / np.sqrt(n))}]\")"
   ]
  },
  {
   "cell_type": "code",
   "execution_count": 36,
   "id": "7125e655",
   "metadata": {},
   "outputs": [
    {
     "data": {
      "text/plain": [
       "(1575.8820248378292, 2404.1179751621708)"
      ]
     },
     "execution_count": 36,
     "metadata": {},
     "output_type": "execute_result"
    }
   ],
   "source": [
    "stats.norm.interval(0.95,1990,2500/np.sqrt(n))"
   ]
  },
  {
   "cell_type": "code",
   "execution_count": 38,
   "id": "a7c5e695",
   "metadata": {},
   "outputs": [],
   "source": [
    "beml = pd.read_csv(\"../../datasets/BEML.csv\")"
   ]
  },
  {
   "cell_type": "code",
   "execution_count": 40,
   "id": "849fea8d",
   "metadata": {},
   "outputs": [],
   "source": [
    "beml = beml[[\"Date\",\"Close\"]]"
   ]
  },
  {
   "cell_type": "code",
   "execution_count": 46,
   "id": "db9b5144",
   "metadata": {},
   "outputs": [],
   "source": [
    "beml[\"Gain\"] = beml.Close.pct_change()\n",
    "beml = beml.drop(0)"
   ]
  },
  {
   "cell_type": "code",
   "execution_count": 57,
   "id": "0d98db63",
   "metadata": {},
   "outputs": [],
   "source": [
    "gain_mean = beml.Gain.mean()\n",
    "gain_std = beml.Gain.std()\n",
    "n1 = 1738\n"
   ]
  },
  {
   "cell_type": "code",
   "execution_count": 58,
   "id": "1bf7a542",
   "metadata": {},
   "outputs": [],
   "source": [
    "t2 = stats.t.ppf(0.975,n1-1)"
   ]
  },
  {
   "cell_type": "code",
   "execution_count": 65,
   "id": "b61b6bd6",
   "metadata": {},
   "outputs": [
    {
     "name": "stdout",
     "output_type": "stream",
     "text": [
      "[-0.0009727260513203973, 0.0015142222094348626]\n"
     ]
    }
   ],
   "source": [
    "print(f\"[{gain_mean - t2 * (gain_std / np.sqrt(n1))}, {gain_mean + t2 * (gain_std / np.sqrt(n1))}]\")"
   ]
  },
  {
   "cell_type": "code",
   "execution_count": 62,
   "id": "36e363de",
   "metadata": {},
   "outputs": [
    {
     "data": {
      "text/plain": [
       "(-0.051568851771367774, 0.05211034792948224)"
      ]
     },
     "execution_count": 62,
     "metadata": {},
     "output_type": "execute_result"
    }
   ],
   "source": [
    "stats.t.interval(0.95,n1 - 1,gain_mean,gain_std)"
   ]
  },
  {
   "cell_type": "code",
   "execution_count": 72,
   "id": "395693bc",
   "metadata": {},
   "outputs": [
    {
     "name": "stdout",
     "output_type": "stream",
     "text": [
      "[-0.051532729680601415, 0.05207422583871588]\n"
     ]
    }
   ],
   "source": [
    "print(f\"[{gain_mean - z1 * gain_std}, {gain_mean + z1 * gain_std}]\")"
   ]
  },
  {
   "cell_type": "code",
   "execution_count": 67,
   "id": "3276af02",
   "metadata": {},
   "outputs": [
    {
     "data": {
      "text/plain": [
       "1.959963984540054"
      ]
     },
     "execution_count": 67,
     "metadata": {},
     "output_type": "execute_result"
    }
   ],
   "source": [
    "z1"
   ]
  },
  {
   "cell_type": "code",
   "execution_count": 71,
   "id": "b2363645",
   "metadata": {},
   "outputs": [
    {
     "data": {
      "text/plain": [
       "(-0.051532729680601415, 0.05207422583871588)"
      ]
     },
     "execution_count": 71,
     "metadata": {},
     "output_type": "execute_result"
    }
   ],
   "source": [
    "stats.norm.interval(0.95,gain_mean,gain_std)"
   ]
  },
  {
   "cell_type": "code",
   "execution_count": 76,
   "id": "780e2f00",
   "metadata": {},
   "outputs": [
    {
     "data": {
      "text/plain": [
       "2.23606797749979"
      ]
     },
     "execution_count": 76,
     "metadata": {},
     "output_type": "execute_result"
    }
   ],
   "source": [
    "#Critical Value\n",
    "t = ((130 - 120) / (40 / np.sqrt(80)))"
   ]
  },
  {
   "cell_type": "code",
   "execution_count": 79,
   "id": "a76f9cc1",
   "metadata": {},
   "outputs": [
    {
     "data": {
      "text/plain": [
       "0.014084316277010771"
      ]
     },
     "execution_count": 79,
     "metadata": {},
     "output_type": "execute_result"
    }
   ],
   "source": [
    "stats.t.sf(t,79)"
   ]
  },
  {
   "cell_type": "code",
   "execution_count": 89,
   "id": "e8787299",
   "metadata": {},
   "outputs": [
    {
     "data": {
      "text/plain": [
       "1.0"
      ]
     },
     "execution_count": 89,
     "metadata": {},
     "output_type": "execute_result"
    }
   ],
   "source": [
    "2 * stats.t.cdf(-0,49)"
   ]
  },
  {
   "cell_type": "code",
   "execution_count": 87,
   "id": "c82319d2",
   "metadata": {},
   "outputs": [
    {
     "data": {
      "text/plain": [
       "0.235702260395515"
      ]
     },
     "execution_count": 87,
     "metadata": {},
     "output_type": "execute_result"
    }
   ],
   "source": [
    "(4.1 - 4) / (3 / np.sqrt(50))"
   ]
  },
  {
   "cell_type": "code",
   "execution_count": 92,
   "id": "58736ac1",
   "metadata": {},
   "outputs": [
    {
     "data": {
      "text/plain": [
       "0.029265164842448826"
      ]
     },
     "execution_count": 92,
     "metadata": {},
     "output_type": "execute_result"
    }
   ],
   "source": [
    "stats.ttest_1samp([0.593,0.142,0.329,0.691,0.231,0.793,0.519,0.392,0.418],0.3)[1] / 2"
   ]
  },
  {
   "cell_type": "code",
   "execution_count": 94,
   "id": "6e88bac3",
   "metadata": {},
   "outputs": [
    {
     "data": {
      "text/plain": [
       "True"
      ]
     },
     "execution_count": 94,
     "metadata": {},
     "output_type": "execute_result"
    }
   ],
   "source": [
    "0.03 < 0.05"
   ]
  },
  {
   "cell_type": "code",
   "execution_count": 96,
   "id": "3a319449",
   "metadata": {},
   "outputs": [
    {
     "data": {
      "text/plain": [
       "0.006272124350809803"
      ]
     },
     "execution_count": 96,
     "metadata": {},
     "output_type": "execute_result"
    }
   ],
   "source": [
    "stats.ttest_ind([91,87,99,77,88,91],[110,101,103,93,99,104])[1]"
   ]
  },
  {
   "cell_type": "code",
   "execution_count": 97,
   "id": "6e02fe95",
   "metadata": {},
   "outputs": [
    {
     "data": {
      "text/plain": [
       "0.006272124350809803"
      ]
     },
     "execution_count": 97,
     "metadata": {},
     "output_type": "execute_result"
    }
   ],
   "source": [
    "stats.ttest_ind([110,101,103,93,99,104],[91,87,99,77,88,91])[1]"
   ]
  },
  {
   "cell_type": "code",
   "execution_count": 113,
   "id": "9ae9688c",
   "metadata": {},
   "outputs": [],
   "source": [
    "n1 = 247\n",
    "p1 = 0.37\n",
    "\n",
    "n2 = 308\n",
    "p2 = 0.39"
   ]
  },
  {
   "cell_type": "code",
   "execution_count": 124,
   "id": "efed429f",
   "metadata": {},
   "outputs": [],
   "source": [
    "population1 = np.random.binomial(1,p1,n1)\n",
    "population2 = np.random.binomial(1,p2,n2)"
   ]
  },
  {
   "cell_type": "code",
   "execution_count": 125,
   "id": "b89532b1",
   "metadata": {},
   "outputs": [
    {
     "data": {
      "text/plain": [
       "(0.42380501361733947, 0.671872816273329, 553.0)"
      ]
     },
     "execution_count": 125,
     "metadata": {},
     "output_type": "execute_result"
    }
   ],
   "source": [
    "import statsmodels.api as sm\n",
    "sm.stats.ttest_ind(population1,population2)"
   ]
  },
  {
   "cell_type": "code",
   "execution_count": 126,
   "id": "987b0e3e",
   "metadata": {},
   "outputs": [
    {
     "data": {
      "text/plain": [
       "(0.42380501361733947, 0.671872816273329, 553.0)"
      ]
     },
     "execution_count": 126,
     "metadata": {},
     "output_type": "execute_result"
    }
   ],
   "source": [
    "sm.stats.ttest_ind(population1,population2)"
   ]
  },
  {
   "cell_type": "code",
   "execution_count": 127,
   "id": "6da9dcaf",
   "metadata": {},
   "outputs": [
    {
     "data": {
      "text/plain": [
       "(0.42380501361733947, 0.671872816273329, 553.0)"
      ]
     },
     "execution_count": 127,
     "metadata": {},
     "output_type": "execute_result"
    }
   ],
   "source": [
    "sm.stats.ttest_ind(population1,population2)"
   ]
  },
  {
   "cell_type": "code",
   "execution_count": 1,
   "id": "0d14545e",
   "metadata": {},
   "outputs": [],
   "source": [
    "#-----------------Assignment------------------------------"
   ]
  },
  {
   "cell_type": "code",
   "execution_count": 5,
   "id": "29e0523d",
   "metadata": {},
   "outputs": [],
   "source": [
    "cutlets = pd.read_csv(\"Cutlets.csv\")\n",
    "cutletA, cutletB = cutlets[\"Unit A\"], cutlets[\"Unit B\"]"
   ]
  },
  {
   "cell_type": "code",
   "execution_count": 33,
   "id": "627f1903",
   "metadata": {},
   "outputs": [],
   "source": [
    "#Q1"
   ]
  },
  {
   "cell_type": "code",
   "execution_count": 34,
   "id": "c977e155",
   "metadata": {},
   "outputs": [
    {
     "name": "stdout",
     "output_type": "stream",
     "text": [
      "ShapiroResult(statistic=0.9649459719657898, pvalue=0.31998491287231445) \n",
      " ShapiroResult(statistic=0.9727305769920349, pvalue=0.5225146412849426)\n"
     ]
    }
   ],
   "source": [
    "#First we have to check the normality of two group\n",
    "print(stats.shapiro(cutletA),\"\\n\" ,stats.shapiro(cutletB))"
   ]
  },
  {
   "cell_type": "code",
   "execution_count": 35,
   "id": "30470c0c",
   "metadata": {},
   "outputs": [
    {
     "data": {
      "text/plain": [
       "LeveneResult(statistic=0.6650897638632386, pvalue=0.4176162212502553)"
      ]
     },
     "execution_count": 35,
     "metadata": {},
     "output_type": "execute_result"
    }
   ],
   "source": [
    "#Conduct levene test to find  homogeneity of variances assumption for two  \n",
    "stats.levene(cutletA,cutletB)"
   ]
  },
  {
   "cell_type": "code",
   "execution_count": 36,
   "id": "8003979b",
   "metadata": {},
   "outputs": [],
   "source": [
    "test_statistic, pValue= stats.ttest_ind(cutletA,cutletB)"
   ]
  },
  {
   "cell_type": "code",
   "execution_count": 10,
   "id": "a58c2163",
   "metadata": {},
   "outputs": [
    {
     "name": "stdout",
     "output_type": "stream",
     "text": [
      "No Significance difference (H0)\n"
     ]
    }
   ],
   "source": [
    "if pValue <= 0.05:\n",
    "    print(\"Significance difference. (H1)\")\n",
    "else:\n",
    "    print(\"No Significance difference (H0)\")"
   ]
  },
  {
   "cell_type": "code",
   "execution_count": 37,
   "id": "1efd55c1",
   "metadata": {},
   "outputs": [],
   "source": [
    "#Q2"
   ]
  },
  {
   "cell_type": "code",
   "execution_count": 38,
   "id": "3445d130",
   "metadata": {},
   "outputs": [],
   "source": [
    "labTAT = pd.read_csv(\"labTAT.csv\")"
   ]
  },
  {
   "cell_type": "code",
   "execution_count": 40,
   "id": "42d75ccc",
   "metadata": {},
   "outputs": [
    {
     "data": {
      "text/html": [
       "<div>\n",
       "<style scoped>\n",
       "    .dataframe tbody tr th:only-of-type {\n",
       "        vertical-align: middle;\n",
       "    }\n",
       "\n",
       "    .dataframe tbody tr th {\n",
       "        vertical-align: top;\n",
       "    }\n",
       "\n",
       "    .dataframe thead th {\n",
       "        text-align: right;\n",
       "    }\n",
       "</style>\n",
       "<table border=\"1\" class=\"dataframe\">\n",
       "  <thead>\n",
       "    <tr style=\"text-align: right;\">\n",
       "      <th></th>\n",
       "      <th>Laboratory 1</th>\n",
       "      <th>Laboratory 2</th>\n",
       "      <th>Laboratory 3</th>\n",
       "      <th>Laboratory 4</th>\n",
       "    </tr>\n",
       "  </thead>\n",
       "  <tbody>\n",
       "    <tr>\n",
       "      <th>0</th>\n",
       "      <td>185.35</td>\n",
       "      <td>165.53</td>\n",
       "      <td>176.70</td>\n",
       "      <td>166.13</td>\n",
       "    </tr>\n",
       "    <tr>\n",
       "      <th>1</th>\n",
       "      <td>170.49</td>\n",
       "      <td>185.91</td>\n",
       "      <td>198.45</td>\n",
       "      <td>160.79</td>\n",
       "    </tr>\n",
       "    <tr>\n",
       "      <th>2</th>\n",
       "      <td>192.77</td>\n",
       "      <td>194.92</td>\n",
       "      <td>201.23</td>\n",
       "      <td>185.18</td>\n",
       "    </tr>\n",
       "    <tr>\n",
       "      <th>3</th>\n",
       "      <td>177.33</td>\n",
       "      <td>183.00</td>\n",
       "      <td>199.61</td>\n",
       "      <td>176.42</td>\n",
       "    </tr>\n",
       "    <tr>\n",
       "      <th>4</th>\n",
       "      <td>193.41</td>\n",
       "      <td>169.57</td>\n",
       "      <td>204.63</td>\n",
       "      <td>152.60</td>\n",
       "    </tr>\n",
       "  </tbody>\n",
       "</table>\n",
       "</div>"
      ],
      "text/plain": [
       "   Laboratory 1  Laboratory 2  Laboratory 3  Laboratory 4\n",
       "0        185.35        165.53        176.70        166.13\n",
       "1        170.49        185.91        198.45        160.79\n",
       "2        192.77        194.92        201.23        185.18\n",
       "3        177.33        183.00        199.61        176.42\n",
       "4        193.41        169.57        204.63        152.60"
      ]
     },
     "execution_count": 40,
     "metadata": {},
     "output_type": "execute_result"
    }
   ],
   "source": [
    "labTAT.head()"
   ]
  },
  {
   "cell_type": "code",
   "execution_count": 42,
   "id": "70f9c67f",
   "metadata": {},
   "outputs": [
    {
     "data": {
      "text/plain": [
       "F_onewayResult(statistic=118.70421654401437, pvalue=2.1156708949992414e-57)"
      ]
     },
     "execution_count": 42,
     "metadata": {},
     "output_type": "execute_result"
    }
   ],
   "source": [
    "#one-way ANOVA test\n",
    "stats.f_oneway(labTAT.iloc[:,0], labTAT.iloc[:,1], labTAT.iloc[:,2], labTAT.iloc[:,3])"
   ]
  },
  {
   "cell_type": "code",
   "execution_count": 55,
   "id": "3a325071",
   "metadata": {},
   "outputs": [],
   "source": [
    "#Q3\n",
    "buyerRatio = pd.read_csv(\"BuyerRatio.csv\")"
   ]
  },
  {
   "cell_type": "code",
   "execution_count": 56,
   "id": "c1e6634f",
   "metadata": {},
   "outputs": [],
   "source": [
    "obs = buyerRatio.iloc[:,1:6].values"
   ]
  },
  {
   "cell_type": "code",
   "execution_count": 61,
   "id": "2779f535",
   "metadata": {},
   "outputs": [
    {
     "data": {
      "text/plain": [
       "Chi2ContingencyResult(statistic=1.595945538661058, pvalue=0.6603094907091882, dof=3, expected_freq=array([[  42.76531299,  146.81287862,  131.11756787,   72.30424052],\n",
       "       [ 442.23468701, 1518.18712138, 1355.88243213,  747.69575948]]))"
      ]
     },
     "execution_count": 61,
     "metadata": {},
     "output_type": "execute_result"
    }
   ],
   "source": [
    "stats.chi2_contingency(obs)"
   ]
  },
  {
   "cell_type": "code",
   "execution_count": 63,
   "id": "c97b2879",
   "metadata": {},
   "outputs": [],
   "source": [
    "#Q4\n",
    "df = pd.read_csv(\"Costomer+OrderForm.csv\")"
   ]
  },
  {
   "cell_type": "code",
   "execution_count": 81,
   "id": "a695a276",
   "metadata": {},
   "outputs": [
    {
     "data": {
      "text/html": [
       "<div>\n",
       "<style scoped>\n",
       "    .dataframe tbody tr th:only-of-type {\n",
       "        vertical-align: middle;\n",
       "    }\n",
       "\n",
       "    .dataframe tbody tr th {\n",
       "        vertical-align: top;\n",
       "    }\n",
       "\n",
       "    .dataframe thead th {\n",
       "        text-align: right;\n",
       "    }\n",
       "</style>\n",
       "<table border=\"1\" class=\"dataframe\">\n",
       "  <thead>\n",
       "    <tr style=\"text-align: right;\">\n",
       "      <th></th>\n",
       "      <th>Phillippines</th>\n",
       "      <th>Indonesia</th>\n",
       "      <th>Malta</th>\n",
       "      <th>India</th>\n",
       "    </tr>\n",
       "  </thead>\n",
       "  <tbody>\n",
       "    <tr>\n",
       "      <th>0</th>\n",
       "      <td>Error Free</td>\n",
       "      <td>Error Free</td>\n",
       "      <td>Defective</td>\n",
       "      <td>Error Free</td>\n",
       "    </tr>\n",
       "    <tr>\n",
       "      <th>1</th>\n",
       "      <td>Error Free</td>\n",
       "      <td>Error Free</td>\n",
       "      <td>Error Free</td>\n",
       "      <td>Defective</td>\n",
       "    </tr>\n",
       "  </tbody>\n",
       "</table>\n",
       "</div>"
      ],
      "text/plain": [
       "  Phillippines   Indonesia       Malta       India\n",
       "0   Error Free  Error Free   Defective  Error Free\n",
       "1   Error Free  Error Free  Error Free   Defective"
      ]
     },
     "execution_count": 81,
     "metadata": {},
     "output_type": "execute_result"
    }
   ],
   "source": [
    "df.head(2)"
   ]
  },
  {
   "cell_type": "code",
   "execution_count": 95,
   "id": "531c0813",
   "metadata": {},
   "outputs": [
    {
     "name": "stdout",
     "output_type": "stream",
     "text": [
      "Phillippines\n",
      "Indonesia\n",
      "Malta\n",
      "India\n"
     ]
    }
   ],
   "source": [
    "dict = {}\n",
    "\n",
    "for column in df.columns:\n",
    "    print(column)\n",
    "    dict[column] = {df[column].value_counts().index[i] : df[column].value_counts().values[i] for i in range(len(df[column].value_counts()))}"
   ]
  },
  {
   "cell_type": "code",
   "execution_count": 98,
   "id": "8ce13d46",
   "metadata": {},
   "outputs": [
    {
     "data": {
      "text/html": [
       "<div>\n",
       "<style scoped>\n",
       "    .dataframe tbody tr th:only-of-type {\n",
       "        vertical-align: middle;\n",
       "    }\n",
       "\n",
       "    .dataframe tbody tr th {\n",
       "        vertical-align: top;\n",
       "    }\n",
       "\n",
       "    .dataframe thead th {\n",
       "        text-align: right;\n",
       "    }\n",
       "</style>\n",
       "<table border=\"1\" class=\"dataframe\">\n",
       "  <thead>\n",
       "    <tr style=\"text-align: right;\">\n",
       "      <th></th>\n",
       "      <th>Phillippines</th>\n",
       "      <th>Indonesia</th>\n",
       "      <th>Malta</th>\n",
       "      <th>India</th>\n",
       "    </tr>\n",
       "  </thead>\n",
       "  <tbody>\n",
       "    <tr>\n",
       "      <th>Error Free</th>\n",
       "      <td>271</td>\n",
       "      <td>267</td>\n",
       "      <td>269</td>\n",
       "      <td>280</td>\n",
       "    </tr>\n",
       "    <tr>\n",
       "      <th>Defective</th>\n",
       "      <td>29</td>\n",
       "      <td>33</td>\n",
       "      <td>31</td>\n",
       "      <td>20</td>\n",
       "    </tr>\n",
       "  </tbody>\n",
       "</table>\n",
       "</div>"
      ],
      "text/plain": [
       "            Phillippines  Indonesia  Malta  India\n",
       "Error Free           271        267    269    280\n",
       "Defective             29         33     31     20"
      ]
     },
     "execution_count": 98,
     "metadata": {},
     "output_type": "execute_result"
    }
   ],
   "source": [
    "Q4_data = pd.DataFrame(dict)\n",
    "Q4_data"
   ]
  },
  {
   "cell_type": "code",
   "execution_count": 99,
   "id": "d9cf5f9f",
   "metadata": {},
   "outputs": [
    {
     "data": {
      "text/plain": [
       "Chi2ContingencyResult(statistic=3.858960685820355, pvalue=0.2771020991233135, dof=3, expected_freq=array([[271.75, 271.75, 271.75, 271.75],\n",
       "       [ 28.25,  28.25,  28.25,  28.25]]))"
      ]
     },
     "execution_count": 99,
     "metadata": {},
     "output_type": "execute_result"
    }
   ],
   "source": [
    "stats.chi2_contingency(Q4_data.values)"
   ]
  }
 ],
 "metadata": {
  "kernelspec": {
   "display_name": "Python 3 (ipykernel)",
   "language": "python",
   "name": "python3"
  },
  "language_info": {
   "codemirror_mode": {
    "name": "ipython",
    "version": 3
   },
   "file_extension": ".py",
   "mimetype": "text/x-python",
   "name": "python",
   "nbconvert_exporter": "python",
   "pygments_lexer": "ipython3",
   "version": "3.10.9"
  }
 },
 "nbformat": 4,
 "nbformat_minor": 5
}
