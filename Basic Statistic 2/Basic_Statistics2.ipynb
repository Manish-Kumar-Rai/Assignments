{
 "cells": [
  {
   "cell_type": "code",
   "execution_count": 8,
   "id": "c3278993",
   "metadata": {},
   "outputs": [],
   "source": [
    "#install python-docx\n",
    "# !pip install python-docx"
   ]
  },
  {
   "cell_type": "code",
   "execution_count": 16,
   "id": "ac0e9346",
   "metadata": {},
   "outputs": [],
   "source": [
    "import pandas as pd\n",
    "import numpy as np\n",
    "from docx import Document\n",
    "import matplotlib.pyplot as plt\n",
    "%matplotlib inline\n",
    "import seaborn as sns\n",
    "\n",
    "from scipy import stats\n",
    "\n",
    "import warnings\n",
    "warnings.filterwarnings(\"ignore\")"
   ]
  },
  {
   "cell_type": "code",
   "execution_count": 17,
   "id": "a8ea1499",
   "metadata": {},
   "outputs": [],
   "source": [
    "#Q1\n",
    "#Use Document method of python-docx to open and read the file\n",
    "document = Document(\"Set+1_Descriptive+statistics+Probability+(2).docx\")"
   ]
  },
  {
   "cell_type": "code",
   "execution_count": 19,
   "id": "5667a5e5",
   "metadata": {},
   "outputs": [],
   "source": [
    "#Since our focus is to extract the data from tables in docx, we would use document.tables[<table_num>] \n",
    "# to read a specific table present in the file by passing the table number\n",
    "table1, table2 = document.tables[:]"
   ]
  },
  {
   "cell_type": "code",
   "execution_count": 23,
   "id": "02bbb71e",
   "metadata": {},
   "outputs": [
    {
     "data": {
      "text/html": [
       "<div>\n",
       "<style scoped>\n",
       "    .dataframe tbody tr th:only-of-type {\n",
       "        vertical-align: middle;\n",
       "    }\n",
       "\n",
       "    .dataframe tbody tr th {\n",
       "        vertical-align: top;\n",
       "    }\n",
       "\n",
       "    .dataframe thead th {\n",
       "        text-align: right;\n",
       "    }\n",
       "</style>\n",
       "<table border=\"1\" class=\"dataframe\">\n",
       "  <thead>\n",
       "    <tr style=\"text-align: right;\">\n",
       "      <th></th>\n",
       "      <th>Name of company</th>\n",
       "      <th>Measure X</th>\n",
       "    </tr>\n",
       "  </thead>\n",
       "  <tbody>\n",
       "    <tr>\n",
       "      <th>1</th>\n",
       "      <td>Allied Signal</td>\n",
       "      <td>24.23%</td>\n",
       "    </tr>\n",
       "    <tr>\n",
       "      <th>2</th>\n",
       "      <td>Bankers Trust</td>\n",
       "      <td>25.53%</td>\n",
       "    </tr>\n",
       "    <tr>\n",
       "      <th>3</th>\n",
       "      <td>General Mills</td>\n",
       "      <td>25.41%</td>\n",
       "    </tr>\n",
       "    <tr>\n",
       "      <th>4</th>\n",
       "      <td>ITT Industries</td>\n",
       "      <td>24.14%</td>\n",
       "    </tr>\n",
       "    <tr>\n",
       "      <th>5</th>\n",
       "      <td>J.P.Morgan &amp; Co.</td>\n",
       "      <td>29.62%</td>\n",
       "    </tr>\n",
       "    <tr>\n",
       "      <th>6</th>\n",
       "      <td>Lehman Brothers</td>\n",
       "      <td>28.25%</td>\n",
       "    </tr>\n",
       "    <tr>\n",
       "      <th>7</th>\n",
       "      <td>Marriott</td>\n",
       "      <td>25.81%</td>\n",
       "    </tr>\n",
       "    <tr>\n",
       "      <th>8</th>\n",
       "      <td>MCI</td>\n",
       "      <td>24.39%</td>\n",
       "    </tr>\n",
       "    <tr>\n",
       "      <th>9</th>\n",
       "      <td>Merrill Lynch</td>\n",
       "      <td>40.26%</td>\n",
       "    </tr>\n",
       "    <tr>\n",
       "      <th>10</th>\n",
       "      <td>Microsoft</td>\n",
       "      <td>32.95%</td>\n",
       "    </tr>\n",
       "    <tr>\n",
       "      <th>11</th>\n",
       "      <td>Morgan Stanley</td>\n",
       "      <td>91.36%</td>\n",
       "    </tr>\n",
       "    <tr>\n",
       "      <th>12</th>\n",
       "      <td>Sun Microsystems</td>\n",
       "      <td>25.99%</td>\n",
       "    </tr>\n",
       "    <tr>\n",
       "      <th>13</th>\n",
       "      <td>Travelers</td>\n",
       "      <td>39.42%</td>\n",
       "    </tr>\n",
       "    <tr>\n",
       "      <th>14</th>\n",
       "      <td>US Airways</td>\n",
       "      <td>26.71%</td>\n",
       "    </tr>\n",
       "    <tr>\n",
       "      <th>15</th>\n",
       "      <td>Warner-Lambert</td>\n",
       "      <td>35.00%</td>\n",
       "    </tr>\n",
       "  </tbody>\n",
       "</table>\n",
       "</div>"
      ],
      "text/plain": [
       "     Name of company Measure X\n",
       "1      Allied Signal    24.23%\n",
       "2      Bankers Trust    25.53%\n",
       "3      General Mills    25.41%\n",
       "4     ITT Industries    24.14%\n",
       "5   J.P.Morgan & Co.    29.62%\n",
       "6    Lehman Brothers    28.25%\n",
       "7           Marriott    25.81%\n",
       "8                MCI    24.39%\n",
       "9      Merrill Lynch    40.26%\n",
       "10         Microsoft    32.95%\n",
       "11    Morgan Stanley    91.36%\n",
       "12  Sun Microsystems    25.99%\n",
       "13         Travelers    39.42%\n",
       "14        US Airways    26.71%\n",
       "15    Warner-Lambert    35.00%"
      ]
     },
     "execution_count": 23,
     "metadata": {},
     "output_type": "execute_result"
    }
   ],
   "source": []
  },
  {
   "cell_type": "code",
   "execution_count": 34,
   "id": "9daa7479",
   "metadata": {},
   "outputs": [],
   "source": [
    "#Data Preparation\n",
    "data1 = [[cell.text for cell in row.cells] for row in table1.rows]\n",
    "data2 = [[cell.text for cell in row.cells] for row in table2.rows]\n",
    "df1 = pd.DataFrame(data1,columns = data1[0]).drop(0)\n",
    "df2 = pd.DataFrame(data2, columns = data2[0]).drop(0)\n",
    "df1[\"Measure X\"] = [float(value.replace(\"%\",\"\")) for value in df1[\"Measure X\"]]\n",
    "df2.x = [int(value.replace(\",\",\"\")) for value in df2.x]\n",
    "df2[\"P(x)\"] = [float(value) for value in df2[\"P(x)\"]]"
   ]
  },
  {
   "cell_type": "code",
   "execution_count": 39,
   "id": "4e3928be",
   "metadata": {},
   "outputs": [
    {
     "data": {
      "image/png": "[encoded data removed]",
      "text/plain": [
       "<Figure size 640x480 with 1 Axes>"
      ]
     },
     "metadata": {},
     "output_type": "display_data"
    }
   ],
   "source": [
    "#For outliers\n",
    "box1 = plt.boxplot(df1[\"Measure X\"],vert=False) \n",
    "[data.get_ydata() for data in box1[\"fliers\"]]\n",
    "plt.savefig(\"Set1Q2.png\")"
   ]
  },
  {
   "cell_type": "code",
   "execution_count": 125,
   "id": "4ff9b5f4",
   "metadata": {},
   "outputs": [
    {
     "data": {
      "text/plain": [
       "mean     33.271\n",
       "std      16.945\n",
       "var     287.147\n",
       "Name: Measure X, dtype: float64"
      ]
     },
     "execution_count": 125,
     "metadata": {},
     "output_type": "execute_result"
    }
   ],
   "source": [
    "#for mean,std,var\n",
    "np.round(df1[\"Measure X\"].agg([\"mean\",\"std\",\"var\"]),3)"
   ]
  },
  {
   "cell_type": "code",
   "execution_count": 130,
   "id": "8c76e539",
   "metadata": {},
   "outputs": [],
   "source": [
    "df1.to_csv(\"table1.csv\")"
   ]
  },
  {
   "cell_type": "code",
   "execution_count": 142,
   "id": "30c6c0c5",
   "metadata": {},
   "outputs": [
    {
     "data": {
      "text/plain": [
       "<BarContainer object of 15 artists>"
      ]
     },
     "execution_count": 142,
     "metadata": {},
     "output_type": "execute_result"
    },
    {
     "data": {
      "image/png": "[encoded data removed]",
      "text/plain": [
       "<Figure size 640x480 with 1 Axes>"
      ]
     },
     "metadata": {},
     "output_type": "display_data"
    }
   ],
   "source": [
    "#plot the data\n",
    "plt.barh(df1[df1.columns[0]],df1[df1.columns[1]],xerr = df[\"Measure X\"].std(),error_kw = {\"ecolor\" : \"0.5\",\"capsize\": 7})"
   ]
  },
  {
   "cell_type": "code",
   "execution_count": 146,
   "id": "0c14c4f8",
   "metadata": {},
   "outputs": [
    {
     "data": {
      "text/plain": [
       "800.0"
      ]
     },
     "execution_count": 146,
     "metadata": {},
     "output_type": "execute_result"
    }
   ],
   "source": [
    "#Q5\n",
    "df2[\"E(x)\"] = df2.x * df2[\"P(x)\"]\n",
    "df2[\"E(x)\"].sum()"
   ]
  },
  {
   "cell_type": "code",
   "execution_count": 163,
   "id": "6593b9f7",
   "metadata": {},
   "outputs": [],
   "source": [
    "#Convert dataframe to docx\n",
    "doc = Document()\n",
    "t = doc.add_table(rows = (df2.shape[0] + 1),cols = df2.shape[1])"
   ]
  },
  {
   "cell_type": "code",
   "execution_count": 165,
   "id": "0a033e90",
   "metadata": {},
   "outputs": [
    {
     "ename": "IndexError",
     "evalue": "index 6 is out of bounds for axis 0 with size 6",
     "output_type": "error",
     "traceback": [
      "\u001b[1;31m---------------------------------------------------------------------------\u001b[0m",
      "\u001b[1;31mIndexError\u001b[0m                                Traceback (most recent call last)",
      "Cell \u001b[1;32mIn[165], line 6\u001b[0m\n\u001b[0;32m      4\u001b[0m \u001b[38;5;28;01mfor\u001b[39;00m i \u001b[38;5;129;01min\u001b[39;00m \u001b[38;5;28mrange\u001b[39m(df\u001b[38;5;241m.\u001b[39mshape[\u001b[38;5;241m0\u001b[39m]):\n\u001b[0;32m      5\u001b[0m     \u001b[38;5;28;01mfor\u001b[39;00m j \u001b[38;5;129;01min\u001b[39;00m \u001b[38;5;28mrange\u001b[39m(df2\u001b[38;5;241m.\u001b[39mshape[\u001b[38;5;241m1\u001b[39m]):\n\u001b[1;32m----> 6\u001b[0m         cell \u001b[38;5;241m=\u001b[39m \u001b[43mdf2\u001b[49m\u001b[38;5;241;43m.\u001b[39;49m\u001b[43miat\u001b[49m\u001b[43m[\u001b[49m\u001b[43mi\u001b[49m\u001b[43m,\u001b[49m\u001b[43m \u001b[49m\u001b[43mj\u001b[49m\u001b[43m]\u001b[49m\n\u001b[0;32m      7\u001b[0m         t\u001b[38;5;241m.\u001b[39mcell(i \u001b[38;5;241m+\u001b[39m \u001b[38;5;241m1\u001b[39m, j)\u001b[38;5;241m.\u001b[39mtext \u001b[38;5;241m=\u001b[39m \u001b[38;5;28mstr\u001b[39m(cell)\n",
      "File \u001b[1;32m~\\anaconda3\\lib\\site-packages\\pandas\\core\\indexing.py:2382\u001b[0m, in \u001b[0;36m_ScalarAccessIndexer.__getitem__\u001b[1;34m(self, key)\u001b[0m\n\u001b[0;32m   2379\u001b[0m         \u001b[38;5;28;01mraise\u001b[39;00m \u001b[38;5;167;01mValueError\u001b[39;00m(\u001b[38;5;124m\"\u001b[39m\u001b[38;5;124mInvalid call for scalar access (getting)!\u001b[39m\u001b[38;5;124m\"\u001b[39m)\n\u001b[0;32m   2381\u001b[0m key \u001b[38;5;241m=\u001b[39m \u001b[38;5;28mself\u001b[39m\u001b[38;5;241m.\u001b[39m_convert_key(key)\n\u001b[1;32m-> 2382\u001b[0m \u001b[38;5;28;01mreturn\u001b[39;00m \u001b[38;5;28;43mself\u001b[39;49m\u001b[38;5;241;43m.\u001b[39;49m\u001b[43mobj\u001b[49m\u001b[38;5;241;43m.\u001b[39;49m\u001b[43m_get_value\u001b[49m\u001b[43m(\u001b[49m\u001b[38;5;241;43m*\u001b[39;49m\u001b[43mkey\u001b[49m\u001b[43m,\u001b[49m\u001b[43m \u001b[49m\u001b[43mtakeable\u001b[49m\u001b[38;5;241;43m=\u001b[39;49m\u001b[38;5;28;43mself\u001b[39;49m\u001b[38;5;241;43m.\u001b[39;49m\u001b[43m_takeable\u001b[49m\u001b[43m)\u001b[49m\n",
      "File \u001b[1;32m~\\anaconda3\\lib\\site-packages\\pandas\\core\\frame.py:3915\u001b[0m, in \u001b[0;36mDataFrame._get_value\u001b[1;34m(self, index, col, takeable)\u001b[0m\n\u001b[0;32m   3913\u001b[0m \u001b[38;5;28;01mif\u001b[39;00m takeable:\n\u001b[0;32m   3914\u001b[0m     series \u001b[38;5;241m=\u001b[39m \u001b[38;5;28mself\u001b[39m\u001b[38;5;241m.\u001b[39m_ixs(col, axis\u001b[38;5;241m=\u001b[39m\u001b[38;5;241m1\u001b[39m)\n\u001b[1;32m-> 3915\u001b[0m     \u001b[38;5;28;01mreturn\u001b[39;00m \u001b[43mseries\u001b[49m\u001b[38;5;241;43m.\u001b[39;49m\u001b[43m_values\u001b[49m\u001b[43m[\u001b[49m\u001b[43mindex\u001b[49m\u001b[43m]\u001b[49m\n\u001b[0;32m   3917\u001b[0m series \u001b[38;5;241m=\u001b[39m \u001b[38;5;28mself\u001b[39m\u001b[38;5;241m.\u001b[39m_get_item_cache(col)\n\u001b[0;32m   3918\u001b[0m engine \u001b[38;5;241m=\u001b[39m \u001b[38;5;28mself\u001b[39m\u001b[38;5;241m.\u001b[39mindex\u001b[38;5;241m.\u001b[39m_engine\n",
      "\u001b[1;31mIndexError\u001b[0m: index 6 is out of bounds for axis 0 with size 6"
     ]
    }
   ],
   "source": [
    "for j in range(df2.shape[1]):\n",
    "    t.cell(0, j).text = df2.columns[j]\n",
    "# Add the body of the data frame\n",
    "for i in range(df.shape[0]):\n",
    "    for j in range(df2.shape[1]):\n",
    "        cell = df2.iat[i, j]\n",
    "        t.cell(i + 1, j).text = str(cell)"
   ]
  },
  {
   "cell_type": "code",
   "execution_count": 168,
   "id": "b70098de",
   "metadata": {},
   "outputs": [],
   "source": [
    "#Save as doc\n",
    "doc.save(\"table2.docx\")"
   ]
  },
  {
   "cell_type": "code",
   "execution_count": 169,
   "id": "487756c9",
   "metadata": {},
   "outputs": [],
   "source": [
    "#SET2"
   ]
  },
  {
   "cell_type": "code",
   "execution_count": 226,
   "id": "2c1917fa",
   "metadata": {},
   "outputs": [],
   "source": [
    "#Q1\n",
    "mean = 45\n",
    "std = 8\n",
    "data3 = pd.Series(np.round(np.random.normal(loc=mean,scale=std,size=1000),0))\n",
    "data3 = data3.value_counts()"
   ]
  },
  {
   "cell_type": "code",
   "execution_count": 202,
   "id": "62a00e36",
   "metadata": {},
   "outputs": [],
   "source": [
    "df3 = pd.DataFrame({\"values\" : data3.index, \"counts\" : data3.values})"
   ]
  },
  {
   "cell_type": "code",
   "execution_count": 205,
   "id": "0f89cbab",
   "metadata": {},
   "outputs": [
    {
     "data": {
      "text/plain": [
       "<Axes: ylabel='Density'>"
      ]
     },
     "execution_count": 205,
     "metadata": {},
     "output_type": "execute_result"
    },
    {
     "data": {
      "image/png": "[encoded data removed]",
      "text/plain": [
       "<Figure size 640x480 with 1 Axes>"
      ]
     },
     "metadata": {},
     "output_type": "display_data"
    }
   ],
   "source": [
    "sns.distplot(df3)"
   ]
  },
  {
   "cell_type": "code",
   "execution_count": 208,
   "id": "cc157009",
   "metadata": {},
   "outputs": [],
   "source": [
    "df3.to_csv(\"Set2_Q1.csv\",index=False,header=True)"
   ]
  },
  {
   "cell_type": "code",
   "execution_count": 213,
   "id": "610fa900",
   "metadata": {},
   "outputs": [],
   "source": [
    "ser = pd.Series(np.round(np.random.normal(loc=mean,scale=std,size=10000),0))"
   ]
  },
  {
   "cell_type": "code",
   "execution_count": 214,
   "id": "b02854e9",
   "metadata": {},
   "outputs": [],
   "source": [
    "df4 = pd.DataFrame()\n",
    "df4[\"values\"] = ser.values"
   ]
  },
  {
   "cell_type": "code",
   "execution_count": 218,
   "id": "29a61bf2",
   "metadata": {},
   "outputs": [],
   "source": [
    "df4.to_csv(\"Set2_Q1.1.csv\",index=False,header=True)"
   ]
  },
  {
   "cell_type": "code",
   "execution_count": 219,
   "id": "350aa591",
   "metadata": {},
   "outputs": [
    {
     "data": {
      "text/plain": [
       "<Axes: ylabel='Density'>"
      ]
     },
     "execution_count": 219,
     "metadata": {},
     "output_type": "execute_result"
    },
    {
     "data": {
      "image/png": "[encoded data removed]",
      "text/plain": [
       "<Figure size 640x480 with 1 Axes>"
      ]
     },
     "metadata": {},
     "output_type": "display_data"
    }
   ],
   "source": [
    "sns.distplot(df4)"
   ]
  },
  {
   "cell_type": "code",
   "execution_count": 223,
   "id": "b97c8ed3",
   "metadata": {},
   "outputs": [
    {
     "data": {
      "text/plain": [
       "0.26598552904870054"
      ]
     },
     "execution_count": 223,
     "metadata": {},
     "output_type": "execute_result"
    }
   ],
   "source": [
    "1 - stats.norm.cdf(50,loc=mean,scale = std)"
   ]
  },
  {
   "cell_type": "code",
   "execution_count": 225,
   "id": "e8cfc071",
   "metadata": {},
   "outputs": [],
   "source": [
    "#Q2\n",
    "mean2 = 38\n",
    "std2 = 6"
   ]
  },
  {
   "cell_type": "code",
   "execution_count": 227,
   "id": "e5198ecb",
   "metadata": {},
   "outputs": [
    {
     "data": {
      "text/plain": [
       "0.3413447460685429"
      ]
     },
     "execution_count": 227,
     "metadata": {},
     "output_type": "execute_result"
    }
   ],
   "source": [
    "stats.norm.cdf(44,loc=mean2,scale=std2) - stats.norm.cdf(38,loc=mean2,scale=std2)"
   ]
  },
  {
   "cell_type": "code",
   "execution_count": 228,
   "id": "750f182a",
   "metadata": {},
   "outputs": [
    {
     "data": {
      "text/plain": [
       "0.15865525393145707"
      ]
     },
     "execution_count": 228,
     "metadata": {},
     "output_type": "execute_result"
    }
   ],
   "source": [
    "1 - stats.norm.cdf(44,loc=mean2,scale=std2)"
   ]
  },
  {
   "cell_type": "code",
   "execution_count": 229,
   "id": "4c3e3abf",
   "metadata": {},
   "outputs": [],
   "source": [
    "ser2 = pd.Series(np.round(np.random.normal(mean2,std2,size=400)))"
   ]
  },
  {
   "cell_type": "code",
   "execution_count": 230,
   "id": "e29f4f33",
   "metadata": {},
   "outputs": [
    {
     "data": {
      "text/plain": [
       "<Axes: ylabel='Density'>"
      ]
     },
     "execution_count": 230,
     "metadata": {},
     "output_type": "execute_result"
    },
    {
     "data": {
      "image/png": "[encoded data removed]",
      "text/plain": [
       "<Figure size 640x480 with 1 Axes>"
      ]
     },
     "metadata": {},
     "output_type": "display_data"
    }
   ],
   "source": [
    "sns.distplot(ser2)"
   ]
  },
  {
   "cell_type": "code",
   "execution_count": 232,
   "id": "1eeadc82",
   "metadata": {},
   "outputs": [
    {
     "data": {
      "text/plain": [
       "36.484487890347154"
      ]
     },
     "execution_count": 232,
     "metadata": {},
     "output_type": "execute_result"
    }
   ],
   "source": [
    "# No. of employees attending training program from 400 nos. is N*P(X<30)\n",
    "400 * stats.norm.cdf(30,loc=mean2,scale=std2)"
   ]
  },
  {
   "cell_type": "code",
   "execution_count": 233,
   "id": "55c8bfc1",
   "metadata": {},
   "outputs": [
    {
     "data": {
      "text/plain": [
       "(48.48341392902199, 151.516586070978)"
      ]
     },
     "execution_count": 233,
     "metadata": {},
     "output_type": "execute_result"
    }
   ],
   "source": [
    "#Q4\n",
    "#4.Let X ~ N(100, 202). Find two values, a and b, symmetric about the mean, such that the probability of the random variable taking a value between them is 0.99. \n",
    "stats.norm.interval(0.99,loc=100,scale=20)"
   ]
  },
  {
   "cell_type": "code",
   "execution_count": 234,
   "id": "22a6a826",
   "metadata": {},
   "outputs": [
    {
     "data": {
      "text/plain": [
       "2.8628012420754157e-07"
      ]
     },
     "execution_count": 234,
     "metadata": {},
     "output_type": "execute_result"
    }
   ],
   "source": [
    "stats.norm.cdf(-0.005,loc=100,scale=20)"
   ]
  },
  {
   "cell_type": "code",
   "execution_count": 240,
   "id": "d9a57f50",
   "metadata": {},
   "outputs": [
    {
     "name": "stdout",
     "output_type": "stream",
     "text": [
      "540 225.0\n"
     ]
    }
   ],
   "source": [
    "#Q5\n",
    "total_mean = (5 + 7) * 45       #using conversion rate\n",
    "total_std = np.sqrt(9 + 16) * 45\n",
    "print(total_mean,total_std)"
   ]
  },
  {
   "cell_type": "code",
   "execution_count": 242,
   "id": "f74d45b9",
   "metadata": {},
   "outputs": [
    {
     "data": {
      "text/plain": [
       "(99.00810347848784, 980.9918965215122)"
      ]
     },
     "execution_count": 242,
     "metadata": {},
     "output_type": "execute_result"
    }
   ],
   "source": [
    "#A.Specify a Rupee range (centered on the mean) such that it contains 95% probability for the annual profit of the company.\n",
    "stats.norm.interval(0.95,loc=total_mean,scale=total_std)"
   ]
  },
  {
   "cell_type": "code",
   "execution_count": 243,
   "id": "97acdef9",
   "metadata": {},
   "outputs": [
    {
     "name": "stdout",
     "output_type": "stream",
     "text": [
      "5th percentile of profit (in Million Rupees) is 170.0\n"
     ]
    }
   ],
   "source": [
    "#Specify the 5th percentile of profit (in Rupees) for the company\n",
    "# To compute 5th Percentile, we use the formula X=μ + Zσ; wherein from z table,\n",
    "X= 540+(-1.645)*(225)\n",
    "print('5th percentile of profit (in Million Rupees) is',np.round(X,))"
   ]
  },
  {
   "cell_type": "code",
   "execution_count": 244,
   "id": "6046fad7",
   "metadata": {},
   "outputs": [
    {
     "data": {
      "text/plain": [
       "0.0477903522728147"
      ]
     },
     "execution_count": 244,
     "metadata": {},
     "output_type": "execute_result"
    }
   ],
   "source": [
    "# Probability of Division 1 making a loss P(X<0)\n",
    "stats.norm.cdf(0,5,3)"
   ]
  },
  {
   "cell_type": "code",
   "execution_count": 245,
   "id": "43f8104f",
   "metadata": {},
   "outputs": [
    {
     "data": {
      "text/plain": [
       "0.040059156863817086"
      ]
     },
     "execution_count": 245,
     "metadata": {},
     "output_type": "execute_result"
    }
   ],
   "source": [
    "# Probability of Division 2 making a loss P(X<0)\n",
    "stats.norm.cdf(0,7,4)"
   ]
  },
  {
   "cell_type": "code",
   "execution_count": 254,
   "id": "5f582a1b",
   "metadata": {},
   "outputs": [],
   "source": [
    "data4 = pd.Series(np.round(np.random.binomial(10,0.2,10000),0))"
   ]
  },
  {
   "cell_type": "code",
   "execution_count": 256,
   "id": "77b5f081",
   "metadata": {},
   "outputs": [],
   "source": [
    "data4.to_csv(\"data4.csv\")"
   ]
  },
  {
   "cell_type": "code",
   "execution_count": 255,
   "id": "b78fb09a",
   "metadata": {},
   "outputs": [
    {
     "data": {
      "text/plain": [
       "0       4\n",
       "1       1\n",
       "2       3\n",
       "3       5\n",
       "4       2\n",
       "       ..\n",
       "9995    2\n",
       "9996    1\n",
       "9997    0\n",
       "9998    1\n",
       "9999    1\n",
       "Length: 10000, dtype: int32"
      ]
     },
     "execution_count": 255,
     "metadata": {},
     "output_type": "execute_result"
    }
   ],
   "source": [
    "A2 Poajors cl tdo kagazfeo ;6888@2aZdfs fs puro assukptfce. Zdoro fs a ?8% ndaeno tdat tdo sakpio koae(\n",
    " º\n",
    " T \n",
    ") fsgroator tdae tdo pcpuiatfce koae(¿). Patfeg cl tdo nakora(7.?)N2 ^akpifeg lrako2 Aii roajors cl tdo fssuo wdoro tdo survoy was feniujoj.J2 00?O2 \\ciuetary rospcesoL2 Ft fs pcssf`io tdat ceiy tdcso wdc woro partfnuiariy pioasoj cr ceiy wdc arojfspioasoj wftd tdo prcjunt partfnfpatoj fe tdo survoy wdfnd nae kamos tdo rosuitsueroifa`io."
   ]
  },
  {
   "cell_type": "code",
   "execution_count": null,
   "id": "247a4824",
   "metadata": {},
   "outputs": [],
   "source": []
  }
 ],
 "metadata": {
  "kernelspec": {
   "display_name": "Python 3 (ipykernel)",
   "language": "python",
   "name": "python3"
  },
  "language_info": {
   "codemirror_mode": {
    "name": "ipython",
    "version": 3
   },
   "file_extension": ".py",
   "mimetype": "text/x-python",
   "name": "python",
   "nbconvert_exporter": "python",
   "pygments_lexer": "ipython3",
   "version": "3.10.9"
  }
 },
 "nbformat": 4,
 "nbformat_minor": 5
}
